{
 "cells": [
  {
   "cell_type": "code",
   "execution_count": 1,
   "metadata": {
    "ExecuteTime": {
     "end_time": "2023-05-21T16:46:32.716293800Z",
     "start_time": "2023-05-21T16:46:31.396728Z"
    }
   },
   "outputs": [],
   "source": [
    "from sklearn import datasets\n",
    "import numpy as np\n",
    "# import kmeans\n",
    "from sklearn.cluster import KMeans"
   ]
  },
  {
   "cell_type": "code",
   "execution_count": 2,
   "metadata": {
    "ExecuteTime": {
     "end_time": "2023-05-21T16:46:32.726292800Z",
     "start_time": "2023-05-21T16:46:32.714290700Z"
    }
   },
   "outputs": [],
   "source": [
    "iris = datasets.load_iris()\n",
    "X = iris.data\n",
    "y = iris.target"
   ]
  },
  {
   "cell_type": "code",
   "execution_count": 14,
   "metadata": {},
   "outputs": [
    {
     "name": "stderr",
     "output_type": "stream",
     "text": [
      "c:\\Users\\dimit\\anaconda3\\lib\\site-packages\\sklearn\\cluster\\_kmeans.py:870: FutureWarning: The default value of `n_init` will change from 10 to 'auto' in 1.4. Set the value of `n_init` explicitly to suppress the warning\n",
      "  warnings.warn(\n",
      "c:\\Users\\dimit\\anaconda3\\lib\\site-packages\\sklearn\\cluster\\_kmeans.py:1382: UserWarning: KMeans is known to have a memory leak on Windows with MKL, when there are less chunks than available threads. You can avoid it by setting the environment variable OMP_NUM_THREADS=1.\n",
      "  warnings.warn(\n"
     ]
    },
    {
     "ename": "AxisError",
     "evalue": "axis 0 is out of bounds for array of dimension 0",
     "output_type": "error",
     "traceback": [
      "\u001B[1;31m---------------------------------------------------------------------------\u001B[0m",
      "\u001B[1;31mAxisError\u001B[0m                                 Traceback (most recent call last)",
      "Cell \u001B[1;32mIn[14], line 5\u001B[0m\n\u001B[0;32m      3\u001B[0m \u001B[39mfor\u001B[39;00m k \u001B[39min\u001B[39;00m k_values:\n\u001B[0;32m      4\u001B[0m     kmeans \u001B[39m=\u001B[39m KMeans(n_clusters\u001B[39m=\u001B[39mk, random_state\u001B[39m=\u001B[39m\u001B[39m0\u001B[39m)\u001B[39m.\u001B[39mfit(X)\n\u001B[1;32m----> 5\u001B[0m     mean \u001B[39m=\u001B[39m np\u001B[39m.\u001B[39;49mmean(kmeans, axis\u001B[39m=\u001B[39;49m\u001B[39m0\u001B[39;49m)\n\u001B[0;32m      6\u001B[0m     squared_diff \u001B[39m=\u001B[39m (kmeans \u001B[39m-\u001B[39m mean) \u001B[39m*\u001B[39m\u001B[39m*\u001B[39m \u001B[39m2\u001B[39m\n\u001B[0;32m      7\u001B[0m     sse \u001B[39m=\u001B[39m np\u001B[39m.\u001B[39msum(squared_diff)\n",
      "File \u001B[1;32m<__array_function__ internals>:180\u001B[0m, in \u001B[0;36mmean\u001B[1;34m(*args, **kwargs)\u001B[0m\n",
      "File \u001B[1;32mc:\\Users\\dimit\\anaconda3\\lib\\site-packages\\numpy\\core\\fromnumeric.py:3432\u001B[0m, in \u001B[0;36mmean\u001B[1;34m(a, axis, dtype, out, keepdims, where)\u001B[0m\n\u001B[0;32m   3429\u001B[0m     \u001B[39melse\u001B[39;00m:\n\u001B[0;32m   3430\u001B[0m         \u001B[39mreturn\u001B[39;00m mean(axis\u001B[39m=\u001B[39maxis, dtype\u001B[39m=\u001B[39mdtype, out\u001B[39m=\u001B[39mout, \u001B[39m*\u001B[39m\u001B[39m*\u001B[39mkwargs)\n\u001B[1;32m-> 3432\u001B[0m \u001B[39mreturn\u001B[39;00m _methods\u001B[39m.\u001B[39m_mean(a, axis\u001B[39m=\u001B[39maxis, dtype\u001B[39m=\u001B[39mdtype,\n\u001B[0;32m   3433\u001B[0m                       out\u001B[39m=\u001B[39mout, \u001B[39m*\u001B[39m\u001B[39m*\u001B[39mkwargs)\n",
      "File \u001B[1;32mc:\\Users\\dimit\\anaconda3\\lib\\site-packages\\numpy\\core\\_methods.py:168\u001B[0m, in \u001B[0;36m_mean\u001B[1;34m(a, axis, dtype, out, keepdims, where)\u001B[0m\n\u001B[0;32m    164\u001B[0m arr \u001B[39m=\u001B[39m asanyarray(a)\n\u001B[0;32m    166\u001B[0m is_float16_result \u001B[39m=\u001B[39m \u001B[39mFalse\u001B[39;00m\n\u001B[1;32m--> 168\u001B[0m rcount \u001B[39m=\u001B[39m _count_reduce_items(arr, axis, keepdims\u001B[39m=\u001B[39;49mkeepdims, where\u001B[39m=\u001B[39;49mwhere)\n\u001B[0;32m    169\u001B[0m \u001B[39mif\u001B[39;00m rcount \u001B[39m==\u001B[39m \u001B[39m0\u001B[39m \u001B[39mif\u001B[39;00m where \u001B[39mis\u001B[39;00m \u001B[39mTrue\u001B[39;00m \u001B[39melse\u001B[39;00m umr_any(rcount \u001B[39m==\u001B[39m \u001B[39m0\u001B[39m, axis\u001B[39m=\u001B[39m\u001B[39mNone\u001B[39;00m):\n\u001B[0;32m    170\u001B[0m     warnings\u001B[39m.\u001B[39mwarn(\u001B[39m\"\u001B[39m\u001B[39mMean of empty slice.\u001B[39m\u001B[39m\"\u001B[39m, \u001B[39mRuntimeWarning\u001B[39;00m, stacklevel\u001B[39m=\u001B[39m\u001B[39m2\u001B[39m)\n",
      "File \u001B[1;32mc:\\Users\\dimit\\anaconda3\\lib\\site-packages\\numpy\\core\\_methods.py:76\u001B[0m, in \u001B[0;36m_count_reduce_items\u001B[1;34m(arr, axis, keepdims, where)\u001B[0m\n\u001B[0;32m     74\u001B[0m     items \u001B[39m=\u001B[39m \u001B[39m1\u001B[39m\n\u001B[0;32m     75\u001B[0m     \u001B[39mfor\u001B[39;00m ax \u001B[39min\u001B[39;00m axis:\n\u001B[1;32m---> 76\u001B[0m         items \u001B[39m*\u001B[39m\u001B[39m=\u001B[39m arr\u001B[39m.\u001B[39mshape[mu\u001B[39m.\u001B[39;49mnormalize_axis_index(ax, arr\u001B[39m.\u001B[39;49mndim)]\n\u001B[0;32m     77\u001B[0m     items \u001B[39m=\u001B[39m nt\u001B[39m.\u001B[39mintp(items)\n\u001B[0;32m     78\u001B[0m \u001B[39melse\u001B[39;00m:\n\u001B[0;32m     79\u001B[0m     \u001B[39m# TODO: Optimize case when `where` is broadcast along a non-reduction\u001B[39;00m\n\u001B[0;32m     80\u001B[0m     \u001B[39m# axis and full sum is more excessive than needed.\u001B[39;00m\n\u001B[0;32m     81\u001B[0m \n\u001B[0;32m     82\u001B[0m     \u001B[39m# guarded to protect circular imports\u001B[39;00m\n",
      "\u001B[1;31mAxisError\u001B[0m: axis 0 is out of bounds for array of dimension 0"
     ]
    }
   ],
   "source": [
    "sse_values = []\n",
    "k_values = range(2, 10)  # Choose a range of values for the number of clusters\n",
    "for k in k_values:\n",
    "    kmeans = KMeans(n_clusters=k, random_state=0).fit(X)\n",
    "    mean = np.mean(kmeans, axis=0)\n",
    "    squared_diff = (kmeans - mean) ** 2\n",
    "    sse = np.sum(squared_diff)\n",
    "    sse_values.append(sse)\n",
    "\n",
    "# Plot the SSE values against the number of clusters to analyze the results\n",
    "import matplotlib.pyplot as plt\n",
    "plt.plot(k_values, sse_values, marker='o')\n",
    "plt.xlabel('Number of Clusters')\n",
    "plt.ylabel('SSE')\n",
    "plt.title('Elbow Method to Find Optimal Number of Clusters')\n",
    "plt.show()"
   ]
  },
  {
   "cell_type": "code",
   "execution_count": 17,
   "metadata": {},
   "outputs": [
    {
     "name": "stderr",
     "output_type": "stream",
     "text": [
      "c:\\Users\\dimit\\anaconda3\\lib\\site-packages\\sklearn\\cluster\\_kmeans.py:870: FutureWarning: The default value of `n_init` will change from 10 to 'auto' in 1.4. Set the value of `n_init` explicitly to suppress the warning\n",
      "  warnings.warn(\n",
      "c:\\Users\\dimit\\anaconda3\\lib\\site-packages\\sklearn\\cluster\\_kmeans.py:1382: UserWarning: KMeans is known to have a memory leak on Windows with MKL, when there are less chunks than available threads. You can avoid it by setting the environment variable OMP_NUM_THREADS=1.\n",
      "  warnings.warn(\n",
      "c:\\Users\\dimit\\anaconda3\\lib\\site-packages\\sklearn\\cluster\\_kmeans.py:870: FutureWarning: The default value of `n_init` will change from 10 to 'auto' in 1.4. Set the value of `n_init` explicitly to suppress the warning\n",
      "  warnings.warn(\n",
      "c:\\Users\\dimit\\anaconda3\\lib\\site-packages\\sklearn\\cluster\\_kmeans.py:1382: UserWarning: KMeans is known to have a memory leak on Windows with MKL, when there are less chunks than available threads. You can avoid it by setting the environment variable OMP_NUM_THREADS=1.\n",
      "  warnings.warn(\n",
      "c:\\Users\\dimit\\anaconda3\\lib\\site-packages\\sklearn\\cluster\\_kmeans.py:870: FutureWarning: The default value of `n_init` will change from 10 to 'auto' in 1.4. Set the value of `n_init` explicitly to suppress the warning\n",
      "  warnings.warn(\n",
      "c:\\Users\\dimit\\anaconda3\\lib\\site-packages\\sklearn\\cluster\\_kmeans.py:1382: UserWarning: KMeans is known to have a memory leak on Windows with MKL, when there are less chunks than available threads. You can avoid it by setting the environment variable OMP_NUM_THREADS=1.\n",
      "  warnings.warn(\n",
      "c:\\Users\\dimit\\anaconda3\\lib\\site-packages\\sklearn\\cluster\\_kmeans.py:870: FutureWarning: The default value of `n_init` will change from 10 to 'auto' in 1.4. Set the value of `n_init` explicitly to suppress the warning\n",
      "  warnings.warn(\n",
      "c:\\Users\\dimit\\anaconda3\\lib\\site-packages\\sklearn\\cluster\\_kmeans.py:1382: UserWarning: KMeans is known to have a memory leak on Windows with MKL, when there are less chunks than available threads. You can avoid it by setting the environment variable OMP_NUM_THREADS=1.\n",
      "  warnings.warn(\n"
     ]
    }
   ],
   "source": [
    "\n",
    "def bkmeans(x_data, num_of_clusters , iterations):\n",
    "    indices = []\n",
    "    sse_values = []\n",
    "    clusters = []\n",
    "    clusters.append(x_data)\n",
    "    current_X_data = x_data\n",
    "    for i in range(1, iterations+1):\n",
    "        kmeans = KMeans(n_clusters=2, random_state=0).fit(current_X_data)\n",
    "        cluster1 = current_X_data[kmeans.labels_ == 0]\n",
    "        cluster2 = current_X_data[kmeans.labels_ == 1]\n",
    "        sse1 = np.sum((cluster1 - np.mean(cluster1))**2)\n",
    "        sse2 = np.sum((cluster2 - np.mean(cluster2))**2)\n",
    "        if sse1 > sse2:\n",
    "            current_X_data = cluster1\n",
    "            clusters.append(cluster2)\n",
    "            sse_values.append(sse1)\n",
    "        else:\n",
    "            current_X_data = cluster2\n",
    "            clusters.append(cluster1)\n",
    "            sse_values.append(sse2)\n",
    "        indices.append(kmeans.labels_)\n",
    "        if len(sse_values) > 1:\n",
    "            sse_diff = sse_values[-2] - sse_values[-1]\n",
    "            if sse_diff < 200:\n",
    "                break\n",
    "    return indices, sse_values\n",
    "\n",
    "\n",
    "def bkmeans_new(X_data, num_of_clusters, iterations):\n",
    "    indices = np.emp\n",
    "    clusters = []\n",
    "    clusters.append(X_data)\n",
    "    current_X_data = X_data\n",
    "    current_sse = 0\n",
    "    for i in range(1, num_of_clusters):\n",
    "        for i in range(iterations):\n",
    "            kmeans = KMeans(n_clusters=2, random_state=0).fit(current_X_data)\n",
    "            current_sse = kmeans.inertia_\n",
    "\n",
    "\n",
    "\n",
    "\n",
    "\n",
    "\n",
    "indices, sse_values = bkmeans(X, 5, 10)\n",
    "    \n",
    "   \n",
    "\n"
   ]
  },
  {
   "cell_type": "code",
   "execution_count": null,
   "metadata": {},
   "outputs": [],
   "source": []
  }
 ],
 "metadata": {
  "kernelspec": {
   "display_name": "base",
   "language": "python",
   "name": "python3"
  },
  "language_info": {
   "codemirror_mode": {
    "name": "ipython",
    "version": 3
   },
   "file_extension": ".py",
   "mimetype": "text/x-python",
   "name": "python",
   "nbconvert_exporter": "python",
   "pygments_lexer": "ipython3",
   "version": "3.10.9"
  },
  "orig_nbformat": 4
 },
 "nbformat": 4,
 "nbformat_minor": 2
}
